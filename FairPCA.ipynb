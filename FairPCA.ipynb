{
 "cells": [
  {
   "cell_type": "code",
   "execution_count": null,
   "metadata": {},
   "outputs": [],
   "source": [
    "from fairPCA_jaxnumpy import StreamingFairBlockPCA\n",
    "import matplotlib.pyplot as plt\n",
    "import jax.numpy as np\n",
    "from jax import random\n",
    "\n",
    "Algo = StreamingFairBlockPCA(\n",
    "    data_dim=100,\n",
    "    probability=0.5,\n",
    "    nullity=0,  # nullity of Sigma_gap\n",
    "    seed=None,\n",
    "    eps=0.1,\n",
    "    mu_scale=0.1,\n",
    "    max_cov_eig0=1,\n",
    "    max_cov_eig1=1.5\n",
    ")"
   ]
  },
  {
   "cell_type": "code",
   "execution_count": null,
   "metadata": {},
   "outputs": [],
   "source": [
    "fig, ax = plt.subplots(1, 3, figsize=(15, 5))\n",
    "\n",
    "w0, _ = np.linalg.eigh(Algo.Sigma0)\n",
    "w1, _ = np.linalg.eigh(Algo.Sigma1)\n",
    "w, _ = np.linalg.eigh(Algo.Sigma)\n",
    "wg, _ = np.linalg.eigh(Algo.Sigma_gap)\n",
    "\n",
    "ax[0].plot(w0, label='Eigenvalues: Sigma0')\n",
    "ax[0].plot(w1, label='Eigenvalues: Sigma1')\n",
    "ax[0].legend()\n",
    "ax[1].plot(w, label='Eigenvalues: Sigma')\n",
    "ax[1].plot(wg,label='Eigenvalues: Sigma_gap')\n",
    "ax[1].legend()\n",
    "ax[2].plot(Algo.mu_gap, c='tab:green', label='Entries: $\\mu_{gap}$=$\\mu_1$-$\\mu_0$')\n",
    "ax[2].plot(Algo.mu0, c='tab:orange', label='Entries: $\\mu_0$')\n",
    "ax[2].plot(Algo.mu1, c='tab:red', label='Entries: $\\mu_1$')\n",
    "ax[2].plot(Algo.mu, c='gray', label='Entries: $\\mu=(1-p)\\mu_0 + p\\mu_1$')\n",
    "ax[2].legend()"
   ]
  },
  {
   "cell_type": "code",
   "execution_count": null,
   "metadata": {},
   "outputs": [],
   "source": [
    "unfair_pc_score = [(np.linalg.norm(Algo.eigvec_Sigma[:,-i-1] @ Algo.eigvec_Sigma_gap_sq[:,-1:]), i) for i in range(100)]\n",
    "max(unfair_pc_score, key=lambda x: x[0])"
   ]
  },
  {
   "cell_type": "code",
   "execution_count": null,
   "metadata": {},
   "outputs": [],
   "source": [
    "Algo.eigvec_Sigma[:,-1] @ Algo.eigvec_Sigma_gap_sq[:,-1]"
   ]
  },
  {
   "cell_type": "code",
   "execution_count": null,
   "metadata": {},
   "outputs": [],
   "source": [
    "k = 4\n",
    "a, _ = Algo.get_ground_truth(k, 10, 'covariance')\n",
    "a, Algo.eigval_Sigma[-k:].sum()"
   ]
  },
  {
   "cell_type": "code",
   "execution_count": null,
   "metadata": {},
   "outputs": [],
   "source": [
    "R = Algo.eigvec_Sigma_gap_sq[:,:Algo.d-20]\n",
    "M = R.T @ Algo.Sigma @ R\n",
    "eigval, eigvec = np.linalg.eigh(M)"
   ]
  },
  {
   "cell_type": "code",
   "execution_count": null,
   "metadata": {},
   "outputs": [],
   "source": [
    "np.trace(Algo.Sigma), np.trace(M), eigval[-4:].sum()"
   ]
  },
  {
   "attachments": {},
   "cell_type": "markdown",
   "metadata": {},
   "source": [
    "## Offline Training"
   ]
  },
  {
   "cell_type": "code",
   "execution_count": null,
   "metadata": {},
   "outputs": [],
   "source": [
    "n_iter = 100\n",
    "V = Algo.offline_train(\n",
    "    target_dim=3,\n",
    "    rank=10,\n",
    "    n_iter=n_iter,\n",
    "    lr=1,\n",
    "    mode='pm',\n",
    "    constraint='vanilla',\n",
    "    seed=0,\n",
    "    tol=0,\n",
    "    #lr_scheduler=lambda t: 0.99**(t-1)\n",
    ")\n",
    "fig, axes = Algo.plot_buffer(save=None);  # semicolon\n",
    "# Algo.plot_buffer(save=None, fig=fig, axes=axes); \n",
    "# fig"
   ]
  },
  {
   "cell_type": "code",
   "execution_count": null,
   "metadata": {},
   "outputs": [],
   "source": [
    "V = Algo.offline_train(\n",
    "    target_dim=3,\n",
    "    rank=10,\n",
    "    n_iter=n_iter,\n",
    "    lr=1,\n",
    "    mode='pm',\n",
    "    constraint='all',\n",
    "    seed=0,\n",
    "    tol=0,\n",
    "    #lr_scheduler=lambda t: 0.99**(t-1)\n",
    ")\n",
    "# fig, axes = Algo.plot_buffer(save=None); \n",
    "Algo.plot_buffer(save=None, fig=fig, axes=axes); \n",
    "fig"
   ]
  },
  {
   "attachments": {},
   "cell_type": "markdown",
   "metadata": {},
   "source": [
    "## Online Training"
   ]
  },
  {
   "attachments": {},
   "cell_type": "markdown",
   "metadata": {},
   "source": [
    "### Noisy Power Method"
   ]
  },
  {
   "cell_type": "code",
   "execution_count": null,
   "metadata": {},
   "outputs": [],
   "source": [
    "n_iter = 200\n",
    "V = Algo.train(\n",
    "    target_dim=3,\n",
    "    rank=10,\n",
    "    n_iter=n_iter,\n",
    "    batch_size=50,\n",
    "    constraint='vanilla',\n",
    "    center_by_mean=None,\n",
    "    subspace_optimization=None,\n",
    "    pca_optimization='oja',\n",
    "    lr_pca=0.1,\n",
    "    n_iter_inner=1,\n",
    "    n_iter_history=10,\n",
    "    landing_lambda=1,\n",
    "    seed=0,\n",
    "    tol=0,\n",
    "    # lr_scheduler=lambda t: 0.998**(t-1)\n",
    ")\n",
    "fig, axes = Algo.plot_buffer(save=None);  # semicolon\n",
    "# Algo.plot_buffer(save=None, fig=fig, axes=axes); \n",
    "# fig"
   ]
  },
  {
   "cell_type": "code",
   "execution_count": null,
   "metadata": {},
   "outputs": [],
   "source": [
    "n_iter = 200\n",
    "V = Algo.train(\n",
    "    target_dim=3,\n",
    "    rank=10,\n",
    "    n_iter=n_iter,\n",
    "    batch_size=50,\n",
    "    constraint='vanilla',\n",
    "    center_by_mean=None,\n",
    "    subspace_optimization=None,\n",
    "    pca_optimization='npm',\n",
    "    lr_pca=0.1,\n",
    "    n_iter_inner=1,\n",
    "    n_iter_history=10,\n",
    "    landing_lambda=1,\n",
    "    seed=0,\n",
    "    tol=0,\n",
    "    # lr_scheduler=lambda t: 0.998**(t-1)\n",
    ")\n",
    "# fig, axes = Algo.plot_buffer(save=None);  # semicolon\n",
    "Algo.plot_buffer(save=None, fig=fig, axes=axes); \n",
    "fig"
   ]
  },
  {
   "cell_type": "code",
   "execution_count": null,
   "metadata": {},
   "outputs": [],
   "source": [
    "n_iter = 200\n",
    "V = Algo.train(\n",
    "    target_dim=3,\n",
    "    rank=10,\n",
    "    n_iter=n_iter,\n",
    "    batch_size=50,\n",
    "    constraint='vanilla',\n",
    "    center_by_mean=None,\n",
    "    subspace_optimization=None,\n",
    "    pca_optimization='npmfd',\n",
    "    lr_pca=0.1,\n",
    "    n_iter_inner=1,\n",
    "    n_iter_history=10,\n",
    "    landing_lambda=1,\n",
    "    seed=0,\n",
    "    tol=0,\n",
    "    # lr_scheduler=lambda t: 0.998**(t-1)\n",
    ")\n",
    "# fig, axes = Algo.plot_buffer(save=None);  # semicolon\n",
    "Algo.plot_buffer(save=None, fig=fig, axes=axes); \n",
    "fig"
   ]
  },
  {
   "cell_type": "code",
   "execution_count": null,
   "metadata": {},
   "outputs": [],
   "source": [
    "n_iter = 200\n",
    "V = Algo.train(\n",
    "    target_dim=3,\n",
    "    rank=10,\n",
    "    n_iter=n_iter,\n",
    "    batch_size=50,\n",
    "    constraint='vanilla',\n",
    "    center_by_mean=None,\n",
    "    subspace_optimization=None,\n",
    "    pca_optimization='riemannian',\n",
    "    lr_pca=0.2,\n",
    "    n_iter_inner=1,\n",
    "    n_iter_history=10,\n",
    "    landing_lambda=1,\n",
    "    seed=0,\n",
    "    tol=0,\n",
    "    # lr_scheduler=lambda t: 0.998**(t-1)\n",
    ")\n",
    "# fig, axes = Algo.plot_buffer(save=None);  # semicolon\n",
    "Algo.plot_buffer(save=None, fig=fig, axes=axes); \n",
    "fig"
   ]
  },
  {
   "cell_type": "code",
   "execution_count": null,
   "metadata": {},
   "outputs": [],
   "source": [
    "n_iter = 200\n",
    "V = Algo.train(\n",
    "    target_dim=3,\n",
    "    rank=10,\n",
    "    n_iter=n_iter,\n",
    "    batch_size=50,\n",
    "    constraint='vanilla',\n",
    "    center_by_mean=None,\n",
    "    subspace_optimization=None,\n",
    "    pca_optimization='history',\n",
    "    lr_pca=1,\n",
    "    n_iter_inner=1,\n",
    "    n_iter_history=10,\n",
    "    landing_lambda=1,\n",
    "    seed=0,\n",
    "    tol=0,\n",
    "    # lr_scheduler=lambda t: 0.998**(t-1)\n",
    ")\n",
    "# fig, axes = Algo.plot_buffer(save=None);  # semicolon\n",
    "Algo.plot_buffer(save=None, fig=fig, axes=axes); \n",
    "fig"
   ]
  },
  {
   "attachments": {},
   "cell_type": "markdown",
   "metadata": {},
   "source": [
    "## Online - Fair PCA"
   ]
  },
  {
   "cell_type": "code",
   "execution_count": null,
   "metadata": {},
   "outputs": [],
   "source": [
    "n_iter = 200\n",
    "V = Algo.train(\n",
    "    target_dim=3,\n",
    "    rank=10,\n",
    "    n_iter=n_iter,\n",
    "    batch_size=50,\n",
    "    constraint='vanilla',\n",
    "    center_by_mean=None,\n",
    "    subspace_optimization=None,\n",
    "    pca_optimization='oja',\n",
    "    lr_pca=0.1,\n",
    "    n_iter_inner=1,\n",
    "    n_iter_history=10,\n",
    "    landing_lambda=1,\n",
    "    seed=0,\n",
    "    tol=0,\n",
    "    # lr_scheduler=lambda t: 0.998**(t-1)\n",
    ")\n",
    "fig, axes = Algo.plot_buffer(save=None);  # semicolon\n",
    "# Algo.plot_buffer(save=None, fig=fig, axes=axes); \n",
    "# fig"
   ]
  },
  {
   "cell_type": "code",
   "execution_count": null,
   "metadata": {},
   "outputs": [],
   "source": [
    "n_iter = 200\n",
    "V = Algo.train(\n",
    "    target_dim=3,\n",
    "    rank=10,\n",
    "    n_iter=n_iter,\n",
    "    batch_size=10,\n",
    "    constraint='mean',\n",
    "    center_by_mean=None,\n",
    "    subspace_optimization='npmfd',\n",
    "    pca_optimization='oja',\n",
    "    lr_pca=0.1,\n",
    "    n_iter_inner=1,\n",
    "    n_iter_history=10,\n",
    "    landing_lambda=1,\n",
    "    seed=0,\n",
    "    tol=0,\n",
    "    # lr_scheduler=lambda t: 0.998**(t-1)\n",
    ")\n",
    "fig, axes = Algo.plot_buffer(save=None);  # semicolon\n",
    "# Algo.plot_buffer(save=None, fig=fig, axes=axes); \n",
    "# fig"
   ]
  },
  {
   "cell_type": "code",
   "execution_count": null,
   "metadata": {},
   "outputs": [],
   "source": [
    "n_iter = 200\n",
    "V = Algo.train(\n",
    "    target_dim=3,\n",
    "    rank=10,\n",
    "    n_iter=n_iter,\n",
    "    batch_size=50,\n",
    "    constraint='all',\n",
    "    center_by_mean=None,\n",
    "    subspace_optimization='npmfd',\n",
    "    pca_optimization='npmfd',\n",
    "    lr_pca=0.1,\n",
    "    n_iter_inner=1,\n",
    "    n_iter_history=10,\n",
    "    landing_lambda=1,\n",
    "    seed=0,\n",
    "    tol=0,\n",
    "    # lr_scheduler=lambda t: 0.998**(t-1)\n",
    ")\n",
    "# fig, axes = Algo.plot_buffer(save=None);  # semicolon\n",
    "Algo.plot_buffer(save=None, fig=fig, axes=axes); \n",
    "fig"
   ]
  },
  {
   "cell_type": "code",
   "execution_count": null,
   "metadata": {},
   "outputs": [],
   "source": [
    "n_iter = 200\n",
    "V = Algo.train(\n",
    "    target_dim=3,\n",
    "    rank=10,\n",
    "    n_iter=n_iter,\n",
    "    batch_size=50,\n",
    "    constraint='all',\n",
    "    center_by_mean=None,\n",
    "    subspace_optimization='history',\n",
    "    pca_optimization='history',\n",
    "    lr_pca=0.1,\n",
    "    n_iter_inner=1,\n",
    "    n_iter_history=10,\n",
    "    landing_lambda=1,\n",
    "    seed=0,\n",
    "    tol=0,\n",
    "    # lr_scheduler=lambda t: 0.998**(t-1)\n",
    ")\n",
    "# fig, axes = Algo.plot_buffer(save=None);  # semicolon\n",
    "Algo.plot_buffer(save=None, fig=fig, axes=axes); \n",
    "fig"
   ]
  },
  {
   "cell_type": "code",
   "execution_count": null,
   "metadata": {},
   "outputs": [],
   "source": [
    "n_iter = 200\n",
    "V = Algo.train(\n",
    "    target_dim=3,\n",
    "    rank=10,\n",
    "    n_iter=n_iter,\n",
    "    batch_size=50,\n",
    "    constraint='all',\n",
    "    center_by_mean=None,\n",
    "    subspace_optimization='history',\n",
    "    pca_optimization='oja',\n",
    "    lr_pca=0.1,\n",
    "    n_iter_inner=1,\n",
    "    n_iter_history=10,\n",
    "    landing_lambda=1,\n",
    "    seed=0,\n",
    "    tol=0,\n",
    "    # lr_scheduler=lambda t: 0.998**(t-1)\n",
    ")\n",
    "# fig, axes = Algo.plot_buffer(save=None);  # semicolon\n",
    "Algo.plot_buffer(save=None, fig=fig, axes=axes); \n",
    "fig"
   ]
  },
  {
   "cell_type": "code",
   "execution_count": null,
   "metadata": {},
   "outputs": [],
   "source": []
  }
 ],
 "metadata": {
  "kernelspec": {
   "display_name": "FairPCA",
   "language": "python",
   "name": "python3"
  },
  "language_info": {
   "codemirror_mode": {
    "name": "ipython",
    "version": 3
   },
   "file_extension": ".py",
   "mimetype": "text/x-python",
   "name": "python",
   "nbconvert_exporter": "python",
   "pygments_lexer": "ipython3",
   "version": "3.10.9"
  },
  "orig_nbformat": 4,
  "vscode": {
   "interpreter": {
    "hash": "b85601cab85d19e3bfa23969ab5abd6aa43efad45db892f46f64a77e56ce3a82"
   }
  }
 },
 "nbformat": 4,
 "nbformat_minor": 2
}
